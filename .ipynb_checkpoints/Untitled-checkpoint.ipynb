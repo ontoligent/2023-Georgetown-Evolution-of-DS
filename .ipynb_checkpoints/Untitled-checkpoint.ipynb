{
 "cells": [
  {
   "cell_type": "markdown",
   "id": "66fc55fc-1fe1-4c7b-8e44-2582f5915c72",
   "metadata": {
    "tags": []
   },
   "source": [
    "# The Evolution of Data Science"
   ]
  },
  {
   "cell_type": "markdown",
   "id": "e9abce55-6b98-486f-ab3a-0c826c797a6d",
   "metadata": {},
   "source": [
    "# Introduction\n",
    "\n",
    "- Why do we use the word data science?\n",
    "- How many have degrees in data science?"
   ]
  },
  {
   "cell_type": "code",
   "execution_count": null,
   "id": "8dba40ae-b3e3-49e0-9d9d-8f39efd22fd0",
   "metadata": {},
   "outputs": [],
   "source": []
  }
 ],
 "metadata": {
  "kernelspec": {
   "display_name": "Python 3 (ipykernel)",
   "language": "python",
   "name": "python3"
  },
  "language_info": {
   "codemirror_mode": {
    "name": "ipython",
    "version": 3
   },
   "file_extension": ".py",
   "mimetype": "text/x-python",
   "name": "python",
   "nbconvert_exporter": "python",
   "pygments_lexer": "ipython3",
   "version": "3.11.3"
  }
 },
 "nbformat": 4,
 "nbformat_minor": 5
}
