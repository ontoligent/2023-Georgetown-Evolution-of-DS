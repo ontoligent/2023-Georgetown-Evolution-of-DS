{
 "cells": [
  {
   "cell_type": "markdown",
   "id": "66fc55fc-1fe1-4c7b-8e44-2582f5915c72",
   "metadata": {
    "tags": []
   },
   "source": [
    "# The Evolution of Data Science"
   ]
  },
  {
   "cell_type": "markdown",
   "id": "e9abce55-6b98-486f-ab3a-0c826c797a6d",
   "metadata": {},
   "source": [
    "# Introduction\n",
    "\n",
    "- Why do we use the word data science?\n",
    "- How many have degrees in data science?"
   ]
  },
  {
   "cell_type": "markdown",
   "id": "21f38529-4b52-4fbf-888c-97f57c458d6d",
   "metadata": {},
   "source": [
    "# 2008"
   ]
  },
  {
   "cell_type": "markdown",
   "id": "0665d6ab-e064-4b66-bda4-54348b56884f",
   "metadata": {},
   "source": [
    "```{mermaid}\n",
    "A -> B\n",
    "```"
   ]
  },
  {
   "cell_type": "code",
   "execution_count": null,
   "id": "1255baa3-cbde-4839-87e0-d9b48032b245",
   "metadata": {},
   "outputs": [],
   "source": []
  }
 ],
 "metadata": {
  "kernelspec": {
   "display_name": "Python 3 (ipykernel)",
   "language": "python",
   "name": "python3"
  },
  "language_info": {
   "codemirror_mode": {
    "name": "ipython",
    "version": 3
   },
   "file_extension": ".py",
   "mimetype": "text/x-python",
   "name": "python",
   "nbconvert_exporter": "python",
   "pygments_lexer": "ipython3",
   "version": "3.11.3"
  }
 },
 "nbformat": 4,
 "nbformat_minor": 5
}
